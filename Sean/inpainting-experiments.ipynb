{
 "cells": [
  {
   "cell_type": "code",
   "execution_count": 14,
   "metadata": {},
   "outputs": [
    {
     "data": {
      "text/plain": [
       "True"
      ]
     },
     "execution_count": 14,
     "metadata": {},
     "output_type": "execute_result"
    }
   ],
   "source": [
    "import os\n",
    "import numpy as np\n",
    "import cv2 as cv\n",
    "from matplotlib import pyplot as plt\n",
    "\n",
    "annotation_path = '../../data/train.txt'\n",
    "\n",
    "with open(annotation_path) as f:\n",
    "    lines = f.readlines()\n",
    "\n",
    "# get image path and bounding boxes\n",
    "#line = lines[21].split()\n",
    "line = lines[0].split()\n",
    "\n",
    "# load ground truth boxes\n",
    "gt_boxes = np.array([np.array(list(map(int,box.split(',')))) for box in line[1:]])\n",
    "\n",
    "# load original image\n",
    "img = cv.imread(line[0])\n",
    "\n",
    "height, width, channels = img.shape\n",
    "\n",
    "# initialize mask with all zeros\n",
    "mask = np.zeros((height, width, 3), np.uint8)\n",
    "\n",
    "for bb in gt_boxes:\n",
    "    # assume word is horizontal FIX\n",
    "    # only choose horizontal words\n",
    "    box_width = bb[2] - bb[0]\n",
    "    box_height = bb[3] - bb[1]\n",
    "    if box_width/box_height < 1.5:\n",
    "        continue\n",
    "    \n",
    "    # choose random point between vertical edges\n",
    "    mask_centroid = (bb[2] - bb[0]) * np.random.random_sample() + bb[0]\n",
    "    \n",
    "    # choose random width from \n",
    "    # 0.2*(width of box) and 2*(distance from centroid to closest edge)\n",
    "    closest_dist = min(mask_centroid-bb[0], bb[2]-mask_centroid)\n",
    "    mask_width = ((2*closest_dist) - (0.2*box_width)) * np.random.random_sample() + (0.2*box_width)\n",
    "    \n",
    "    # fill in mask area with white\n",
    "    #white = 255\n",
    "    white = [255, 255, 255]\n",
    "    x_min = int(np.floor(mask_centroid - (mask_width/2)))\n",
    "    y_min = bb[1]\n",
    "    x_max = int(np.ceil(mask_centroid + (mask_width/2)))\n",
    "    y_max = bb[3]\n",
    "    \n",
    "    #print(x_min, y_min, x_max, y_max)\n",
    "    \n",
    "    if np.min([x_min, y_min, x_max, y_max]) >= 0:\n",
    "        mask[y_min:y_max, x_min:x_max] = white\n",
    "\n",
    "# plt.imshow(mask)\n",
    "# plt.title('mask')\n",
    "# plt.show()\n",
    "    \n",
    "# https://docs.opencv.org/3.4.0/df/d3d/tutorial_py_inpainting.html\n",
    "mask_gray = cv.cvtColor(mask, cv.COLOR_BGR2GRAY)\n",
    "dst = cv.inpaint(img, mask_gray, 3, cv.INPAINT_TELEA)\n",
    "\n",
    "# plt.imshow(dst)\n",
    "# plt.title('dst')\n",
    "# plt.show()\n",
    "\n",
    "cv.imwrite( \"./og.tiff\", img )\n",
    "cv.imwrite( \"./out.tiff\", dst )\n"
   ]
  },
  {
   "cell_type": "code",
   "execution_count": null,
   "metadata": {},
   "outputs": [],
   "source": []
  }
 ],
 "metadata": {
  "kernelspec": {
   "display_name": "Python 3",
   "language": "python",
   "name": "python3"
  },
  "language_info": {
   "codemirror_mode": {
    "name": "ipython",
    "version": 3
   },
   "file_extension": ".py",
   "mimetype": "text/x-python",
   "name": "python",
   "nbconvert_exporter": "python",
   "pygments_lexer": "ipython3",
   "version": "3.6.5"
  }
 },
 "nbformat": 4,
 "nbformat_minor": 2
}
