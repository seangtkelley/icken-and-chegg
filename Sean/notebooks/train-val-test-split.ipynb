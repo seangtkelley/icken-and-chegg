{
 "cells": [
  {
   "cell_type": "code",
   "execution_count": 4,
   "metadata": {},
   "outputs": [],
   "source": [
    "import os\n",
    "import numpy as np\n",
    "\n",
    "train_split_file = '../../torch-phoc/splits/train_files.txt'\n",
    "val_split_file = '../../torch-phoc/splits/val_files.txt'\n",
    "test_split_file = '../../torch-phoc/splits/test_files.txt'\n",
    "\n",
    "train_output = 'train.txt'\n",
    "val_output = 'val.txt'\n",
    "test_output = 'test.txt'\n",
    "\n",
    "yolo_annotations = 'yolo_annotations.txt'\n",
    "\n",
    "max_boxes_per_window = 20     \n",
    "anots_file_contents = \"\"\n",
    "window_size = (416, 416)\n",
    "overlap = 0\n",
    "save_image = False\n",
    "\n",
    "with open(yolo_annotations) as f:\n",
    "    lines = f.readlines()\n",
    "    \n",
    "with open(train_split_file) as f:\n",
    "    train_filenames = [line.replace(\"\\n\", \"\") for line in f.readlines()]\n",
    "\n",
    "with open(val_split_file) as f:\n",
    "    val_filenames = [line.replace(\"\\n\", \"\") for line in f.readlines()]\n",
    "    \n",
    "with open(test_split_file) as f:\n",
    "    test_filenames = [line.replace(\"\\n\", \"\") for line in f.readlines()]\n",
    "\n",
    "train_content = \"\"\n",
    "val_content = \"\"\n",
    "test_content = \"\"\n",
    "for line in lines:\n",
    "    filename = line.split()[0].split('/')[-1]\n",
    "    head,sep,tail = filename.partition('.')\n",
    "    \n",
    "    if head in train_filenames:\n",
    "        train_content += line\n",
    "    elif head in val_filenames:\n",
    "        val_content += line\n",
    "    else:\n",
    "        test_content += line\n",
    "        \n",
    "with open(train_output, \"w\") as text_file:\n",
    "    text_file.write(train_content)\n",
    "    \n",
    "with open(val_output, \"w\") as text_file:\n",
    "    text_file.write(val_content)\n",
    "    \n",
    "with open(test_output, \"w\") as text_file:\n",
    "    text_file.write(test_content)"
   ]
  },
  {
   "cell_type": "code",
   "execution_count": null,
   "metadata": {},
   "outputs": [],
   "source": []
  }
 ],
 "metadata": {
  "kernelspec": {
   "display_name": "Python 3",
   "language": "python",
   "name": "python3"
  },
  "language_info": {
   "codemirror_mode": {
    "name": "ipython",
    "version": 3
   },
   "file_extension": ".py",
   "mimetype": "text/x-python",
   "name": "python",
   "nbconvert_exporter": "python",
   "pygments_lexer": "ipython3",
   "version": "3.6.5"
  }
 },
 "nbformat": 4,
 "nbformat_minor": 2
}
