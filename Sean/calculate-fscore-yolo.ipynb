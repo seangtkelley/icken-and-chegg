{
 "cells": [
  {
   "cell_type": "code",
   "execution_count": 15,
   "metadata": {},
   "outputs": [],
   "source": [
    "from lib import utils"
   ]
  },
  {
   "cell_type": "code",
   "execution_count": 6,
   "metadata": {},
   "outputs": [
    {
     "name": "stdout",
     "output_type": "stream",
     "text": [
      "/home/sean/Documents/indystudy/data/trained_weights_final.h5 model, anchors, and classes loaded.\n"
     ]
    }
   ],
   "source": [
    "import os\n",
    "import sys\n",
    "\n",
    "from PIL import Image\n",
    "import PIL.ImageDraw as ImageDraw\n",
    "import numpy as np\n",
    "import time\n",
    "\n",
    "indystudy_path = '/home/sean/Documents/indystudy/'\n",
    "\n",
    "sys.path.append(indystudy_path)\n",
    "\n",
    "from keras_yolo3.yolo import YOLO\n",
    "\n",
    "annotation_path = os.path.join(indystudy_path, 'data', 'train.txt')\n",
    "with open(annotation_path) as f:\n",
    "    lines = f.readlines()\n",
    "      \n",
    "detector = YOLO()\n",
    "\n",
    "window_size = (416, 416)\n",
    "\n",
    "#for line in lines:\n",
    "line = lines[0]\n",
    "line = line.split()\n",
    "image = Image.open(line[0])\n",
    "iw, ih = image.size\n",
    "h, w = window_size\n",
    "gt_boxes = np.array([np.array(list(map(int,box.split(',')))) for box in line[1:]])\n",
    "\n",
    "draw = ImageDraw.Draw(image)"
   ]
  },
  {
   "cell_type": "code",
   "execution_count": 7,
   "metadata": {},
   "outputs": [],
   "source": [
    "predicted_boxes = []\n",
    "for y in range(0, ih, h):\n",
    "    for x in range(0, iw, w):\n",
    "        area = (x, y, x+w, y+h)\n",
    "        window = image.crop(area)\n",
    "\n",
    "        # predicted bounding boxes\n",
    "        _, window_predictions = detector.detect_image_silent(window)\n",
    "\n",
    "        for bb in window_predictions:\n",
    "            adjusted_bb = [bb['left'] + x, bb['top'] + y, bb['right'] + x, bb['bottom'] + y]\n",
    "            \n",
    "            predicted_boxes.append(adjusted_bb)\n",
    "            \n",
    "            draw.rectangle(adjusted_bb, outline=\"blue\")"
   ]
  },
  {
   "cell_type": "code",
   "execution_count": 19,
   "metadata": {},
   "outputs": [
    {
     "name": "stdout",
     "output_type": "stream",
     "text": [
      " False Negatives: 156 \n",
      " Chopped Detections: 361 \n",
      " True Positives: 1931 \n",
      " False Positives: 32 \n",
      " Precision: 0.9836984207845135 \n",
      " Recall: 0.9252515572592238\n"
     ]
    }
   ],
   "source": [
    "# true bounding boxes\n",
    "false_negatives = 0\n",
    "false_positives = 0\n",
    "true_positives = 0\n",
    "chopped_detections = 0\n",
    "\n",
    "used_prediction_indices = {}\n",
    "for bb in gt_boxes:\n",
    "    \n",
    "    preds_for_gt = []\n",
    "    \n",
    "    for i in range(len(predicted_boxes)):\n",
    "        if not used_prediction_indices.get(i, False) and utils.box_contains_centroid(bb, utils.get_centroid_of_box(predicted_boxes[i])):\n",
    "            preds_for_gt.append(predicted_boxes[i])\n",
    "            \n",
    "            # mark prediction as used\n",
    "            used_prediction_indices[i] = True\n",
    "\n",
    "    if len(preds_for_gt) == 0: # nothing detected for gt\n",
    "        false_negatives += 1\n",
    "\n",
    "        draw.rectangle([bb[0], bb[1], bb[2], bb[3]], outline=\"red\")\n",
    "    elif len(preds_for_gt) > 1: # multiple boxes for one gt\n",
    "        chopped_detections += 1\n",
    "\n",
    "        draw.rectangle([bb[0], bb[1], bb[2], bb[3]], outline=\"yellow\")\n",
    "    else:\n",
    "        if utils.bb_iou([bb[0], bb[1], bb[2], bb[3]], preds_for_gt[0]) > 0.5:\n",
    "            true_positives += 1\n",
    "            draw.rectangle([bb[0], bb[1], bb[2], bb[3]], outline=\"lime\")\n",
    "        else:\n",
    "            false_negatives += 1\n",
    "            draw.rectangle([bb[0], bb[1], bb[2], bb[3]], outline=\"teal\")\n",
    "\n",
    "false_positives = len([i for i in range(len(predicted_boxes)) if not used_prediction_indices.get(i, False)])\n",
    "\n",
    "precision = true_positives / (true_positives+false_positives)\n",
    "recall = true_positives / (true_positives+false_negatives)\n",
    "\n",
    "print(\" False Negatives:\", false_negatives, \"\\n\",\n",
    "      \"Chopped Detections:\", chopped_detections, \"\\n\",\n",
    "      \"True Positives:\", true_positives, \"\\n\",\n",
    "      \"False Positives:\", false_positives, \"\\n\",\n",
    "      \"Precision:\", precision, \"\\n\",\n",
    "      \"Recall:\", recall)\n",
    "    \n",
    "image.save('first_train_example_detections_with_gt.tiff')\n",
    "#break"
   ]
  }
 ],
 "metadata": {
  "kernelspec": {
   "display_name": "Python 3",
   "language": "python",
   "name": "python3"
  },
  "language_info": {
   "codemirror_mode": {
    "name": "ipython",
    "version": 3
   },
   "file_extension": ".py",
   "mimetype": "text/x-python",
   "name": "python",
   "nbconvert_exporter": "python",
   "pygments_lexer": "ipython3",
   "version": "3.6.5"
  }
 },
 "nbformat": 4,
 "nbformat_minor": 2
}
