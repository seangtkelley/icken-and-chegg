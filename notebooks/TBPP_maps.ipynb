{
 "cells": [
  {
   "cell_type": "code",
   "execution_count": 3,
   "metadata": {},
   "outputs": [
    {
     "name": "stderr",
     "output_type": "stream",
     "text": [
      "/home/sean/.virtualenvs/ml/lib/python3.6/site-packages/h5py/__init__.py:36: FutureWarning: Conversion of the second argument of issubdtype from `float` to `np.floating` is deprecated. In future, it will be treated as `np.float64 == np.dtype(float).type`.\n",
      "  from ._conv import register_converters as _register_converters\n",
      "Using TensorFlow backend.\n"
     ]
    }
   ],
   "source": [
    "import os\n",
    "import sys\n",
    "import numpy as np\n",
    "import matplotlib.pyplot as plt\n",
    "import cv2\n",
    "import glob\n",
    "\n",
    "home_dir = os.path.expanduser(\"~\")\n",
    "\n",
    "sys.path.append(os.path.join(home_dir, 'Documents', 'indystudy', 'ssd_detectors'))\n",
    "\n",
    "from tbpp_model import TBPP512, TBPP512_dense\n",
    "from utils.model_utils import load_weights, calc_memory_usage"
   ]
  },
  {
   "cell_type": "code",
   "execution_count": 2,
   "metadata": {},
   "outputs": [],
   "source": [
    "# TextBoxes++ + DenseNet\n",
    "model = TBPP512_dense(softmax=False)\n",
    "weights_path = './checkpoints/201807091503_dsodtbpp512fl_synthtext/weights.018.h5'\n",
    "confidence_threshold = 0.35\n",
    "plot_name = 'dsodtbpp512fl_sythtext'"
   ]
  },
  {
   "cell_type": "code",
   "execution_count": 3,
   "metadata": {},
   "outputs": [
    {
     "name": "stdout",
     "output_type": "stream",
     "text": [
      "layer missing max_pooling2d_9\n",
      "    file  []\n"
     ]
    }
   ],
   "source": [
    "load_weights(model, weights_path)\n",
    "checkdir = os.path.dirname(weights_path)\n",
    "\n",
    "from tbpp_utils import PriorUtil\n",
    "prior_util = PriorUtil(model)"
   ]
  },
  {
   "cell_type": "code",
   "execution_count": 17,
   "metadata": {},
   "outputs": [
    {
     "name": "stdout",
     "output_type": "stream",
     "text": [
      "1/1 [==============================] - 2s 2s/step\n",
      "1/1 [==============================] - 2s 2s/step\n",
      "1/1 [==============================] - 2s 2s/step\n",
      "1/1 [==============================] - 2s 2s/step\n",
      "1/1 [==============================] - 2s 2s/step\n",
      "1/1 [==============================] - 2s 2s/step\n",
      "1/1 [==============================] - 2s 2s/step\n",
      "1/1 [==============================] - 2s 2s/step\n",
      "1/1 [==============================] - 2s 2s/step\n",
      "1/1 [==============================] - 2s 2s/step\n",
      "1/1 [==============================] - 2s 2s/step\n",
      "1/1 [==============================] - 2s 2s/step\n",
      "1/1 [==============================] - 2s 2s/step\n",
      "1/1 [==============================] - 2s 2s/step\n",
      "1/1 [==============================] - 2s 2s/step\n",
      "1/1 [==============================] - 2s 2s/step\n",
      "1/1 [==============================] - 2s 2s/step\n",
      "1/1 [==============================] - 2s 2s/step\n",
      "1/1 [==============================] - 2s 2s/step\n",
      "1/1 [==============================] - 2s 2s/step\n",
      "1/1 [==============================] - 2s 2s/step\n",
      "1/1 [==============================] - 2s 2s/step\n",
      "1/1 [==============================] - 2s 2s/step\n",
      "1/1 [==============================] - 2s 2s/step\n",
      "1/1 [==============================] - 2s 2s/step\n",
      "1/1 [==============================] - 2s 2s/step\n",
      "1/1 [==============================] - 2s 2s/step\n",
      "1/1 [==============================] - 2s 2s/step\n",
      "1/1 [==============================] - 2s 2s/step\n",
      "1/1 [==============================] - 2s 2s/step\n",
      "1/1 [==============================] - 2s 2s/step\n",
      "1/1 [==============================] - 2s 2s/step\n",
      "1/1 [==============================] - 2s 2s/step\n",
      "1/1 [==============================] - 2s 2s/step\n",
      "1/1 [==============================] - 2s 2s/step\n",
      "1/1 [==============================] - 2s 2s/step\n",
      "1/1 [==============================] - 2s 2s/step\n",
      "1/1 [==============================] - 2s 2s/step\n",
      "1/1 [==============================] - 2s 2s/step\n",
      "1/1 [==============================] - 2s 2s/step\n",
      "1/1 [==============================] - 2s 2s/step\n",
      "1/1 [==============================] - 2s 2s/step\n",
      "1/1 [==============================] - 2s 2s/step\n",
      "1/1 [==============================] - 2s 2s/step\n",
      "1/1 [==============================] - 2s 2s/step\n",
      "1/1 [==============================] - 2s 2s/step\n",
      "1/1 [==============================] - 2s 2s/step\n",
      "1/1 [==============================] - 2s 2s/step\n",
      "1/1 [==============================] - 2s 2s/step\n",
      "1/1 [==============================] - 2s 2s/step\n",
      "1/1 [==============================] - 2s 2s/step\n",
      "1/1 [==============================] - 2s 2s/step\n",
      "1/1 [==============================] - 2s 2s/step\n",
      "1/1 [==============================] - 2s 2s/step\n",
      "1/1 [==============================] - 2s 2s/step\n",
      "1/1 [==============================] - 2s 2s/step\n",
      "1/1 [==============================] - 2s 2s/step\n",
      "1/1 [==============================] - 2s 2s/step\n"
     ]
    }
   ],
   "source": [
    "from ssd_data import preprocess\n",
    "\n",
    "map_images_dir = \"/home/sean/Documents/indystudy/data/map-images/maps/\"\n",
    "do_preprocess = True\n",
    "preds_output_path = \"./untrained_predictions.txt\"\n",
    "preds_output_file = open(preds_output_path, \"w+\")\n",
    "\n",
    "crop_h = 512\n",
    "crop_w = 512\n",
    "step = 100\n",
    "\n",
    "for filepath in glob.glob(os.path.join(map_images_dir, 'D*')):\n",
    "    image = cv2.imread(filepath)\n",
    "    height = image.shape[0]; width = image.shape[1]\n",
    "    current_x = 0; current_y = 0\n",
    "    preds = []\n",
    "    \n",
    "    while current_y + crop_h < height:\n",
    "        while current_x + crop_w < width:\n",
    "            \n",
    "            crop_img = image[current_y:current_y+crop_h, current_x:current_x+crop_w]\n",
    "    \n",
    "            if do_preprocess:\n",
    "                crop_img = preprocess(crop_img, (512, 512))\n",
    "            \n",
    "            model_output = model.predict(np.array([crop_img]), batch_size=1, verbose=1)\n",
    "            \n",
    "            res = prior_util.decode(model_output[0], confidence_threshold, fast_nms=False)\n",
    "            bboxes = res[:,0:4]\n",
    "            quades = res[:,4:12]\n",
    "            rboxes = res[:,12:17]\n",
    "                \n",
    "            for j in range(len(bboxes)): # xmin, ymin, xmax, ymax\n",
    "                # scale bbox\n",
    "                bbox = bboxes[j]*512\n",
    "                \n",
    "                # translate points\n",
    "                crop_x_min = bbox[0] + current_x\n",
    "                crop_y_min = bbox[1] + current_y\n",
    "                crop_x_max = bbox[2] + current_x\n",
    "                crop_y_max = bbox[3] + current_y\n",
    "                \n",
    "                # find width and height\n",
    "                w = crop_x_max - crop_x_min\n",
    "                h = crop_y_max - crop_y_min\n",
    "\n",
    "                preds.append( (crop_x_min, crop_y_min, w, h) )\n",
    "            \n",
    "            current_x += step\n",
    "\n",
    "        current_x = 0\n",
    "        current_y += step\n",
    "    \n",
    "    filename = filepath.split('/')[-1]\n",
    "    preds_output_file.write(filename + \"\\n\")\n",
    "    \n",
    "    preds_output_file.write( \"\\n\".join( [\" \".join(map(str, bbox)) for bbox in preds] ))\n",
    "    \n",
    "preds_output_file.close()"
   ]
  },
  {
   "cell_type": "code",
   "execution_count": null,
   "metadata": {},
   "outputs": [],
   "source": []
  }
 ],
 "metadata": {
  "kernelspec": {
   "display_name": "Python 3",
   "language": "python",
   "name": "python3"
  },
  "language_info": {
   "codemirror_mode": {
    "name": "ipython",
    "version": 3
   },
   "file_extension": ".py",
   "mimetype": "text/x-python",
   "name": "python",
   "nbconvert_exporter": "python",
   "pygments_lexer": "ipython3",
   "version": "3.6.5"
  }
 },
 "nbformat": 4,
 "nbformat_minor": 2
}
