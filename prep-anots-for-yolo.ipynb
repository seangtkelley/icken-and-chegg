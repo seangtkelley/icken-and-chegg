{
 "cells": [
  {
   "cell_type": "code",
   "execution_count": 21,
   "metadata": {},
   "outputs": [],
   "source": [
    "import numpy as np\n",
    "import glob\n",
    "\n",
    "path_to_annotations = '/home/sean/Documents/indystudy/data/annotations/current/'\n",
    "path_to_maps = '/home/sean/Documents/indystudy/data/map-images/maps/'\n",
    "floydhub_data_path = \"/data/map-images/maps/\"\n",
    "\n",
    "anots_file_contents = \"\"\n",
    "\n",
    "for filepath in glob.glob(path_to_annotations+'D*'):\n",
    "    filename = filepath.split('/')[-1]\n",
    "    head,sep,tail = filename.partition('.')\n",
    "    head = head.replace('D', '')\n",
    "    image_filepath = path_to_maps+'D'+head+'.tiff'\n",
    "    anot_filename = path_to_annotations+'D'+head+'.npy'\n",
    "    \n",
    "    anot_line = floydhub_data_path + 'D'+head+'.tiff'\n",
    "    \n",
    "    A = np.load(anot_filename).item()\n",
    "\n",
    "    # the following code shows how to loop through all the items in the numpy dictionary.\n",
    "    # each dictionary can have at most 3 keys: vertices, name and link_to.\n",
    "\n",
    "    for j in A.keys():\n",
    "        # copy the list of vertices for jth dictionary element\n",
    "        vertices = A[j]['vertices']\n",
    "        \n",
    "        # find left most, right most, top most, and bottom most verticies\n",
    "        x_min = vertices[0][0]\n",
    "        x_max = vertices[0][0]\n",
    "        y_min = vertices[0][1]\n",
    "        y_max = vertices[0][1]\n",
    "        for vertex in vertices:\n",
    "            if vertex[0] < x_min:\n",
    "                x_min = vertex[0]\n",
    "            elif vertex[0] > x_max:\n",
    "                x_max = vertex[0]\n",
    "                \n",
    "            if vertex[1] < y_min:\n",
    "                y_min = vertex[1]\n",
    "            elif vertex[1] > y_max:\n",
    "                y_max = vertex[1]\n",
    "        \n",
    "        # add annotation to line\n",
    "        anot_line += \" \" + \",\".join([str(int(x_min)), str(int(y_min)), str(int(x_max)), str(int(y_max)), \"0\"])\n",
    "        \n",
    "    anots_file_contents += anot_line + \"\\n\"\n",
    "    \n",
    "with open(\"floydhub_train.txt\", \"w\") as text_file:\n",
    "    text_file.write(anots_file_contents)"
   ]
  }
 ],
 "metadata": {
  "kernelspec": {
   "display_name": "Python 3",
   "language": "python",
   "name": "python3"
  },
  "language_info": {
   "codemirror_mode": {
    "name": "ipython",
    "version": 3
   },
   "file_extension": ".py",
   "mimetype": "text/x-python",
   "name": "python",
   "nbconvert_exporter": "python",
   "pygments_lexer": "ipython3",
   "version": "3.6.5"
  }
 },
 "nbformat": 4,
 "nbformat_minor": 2
}
