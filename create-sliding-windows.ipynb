{
 "cells": [
  {
   "cell_type": "code",
   "execution_count": 2,
   "metadata": {},
   "outputs": [],
   "source": [
    "# from https://gamedev.stackexchange.com/questions/586/what-is-the-fastest-way-to-work-out-2d-bounding-box-intersection\n",
    "def bounding_box_in_window(window, box):\n",
    "    return not (box[0] > window[2]\n",
    "        or box[2] < window[0]\n",
    "        or box[1] > window[3]\n",
    "        or box[3] < window[1])"
   ]
  },
  {
   "cell_type": "code",
   "execution_count": 16,
   "metadata": {},
   "outputs": [],
   "source": [
    "import os\n",
    "from PIL import Image\n",
    "import PIL.ImageDraw as ImageDraw\n",
    "import numpy as np\n",
    "import time\n",
    "\n",
    "annotation_path = 'train.txt'\n",
    "with open(annotation_path) as f:\n",
    "    lines = f.readlines()\n",
    "\n",
    "max_boxes = 20\n",
    "floydhub_data_path = \"/data/map-images/yolo3-sliding-windows/\"\n",
    "      \n",
    "anots_file_contents = \"\"    \n",
    "\n",
    "for line in lines:\n",
    "    line = line.split()\n",
    "    image = Image.open(line[0])\n",
    "    iw, ih = image.size\n",
    "    h, w = (416, 416)\n",
    "    box = np.array([np.array(list(map(int,box.split(',')))) for box in line[1:]])\n",
    "    \n",
    "    windows = []\n",
    "    boxes_per_window = []\n",
    "    current_window = 0\n",
    "    for y in range(0, ih, h):\n",
    "        for x in range(0, iw, w):\n",
    "            area = (x, y, x+w, y+h)\n",
    "            window = image.crop(area)\n",
    "            image_data = np.array(window)/255.\n",
    "            windows.append(image_data)\n",
    "            \n",
    "            # save new image\n",
    "            new_path = \"/home/sean/Documents/indystudy/data/map-images/yolo3-sliding-windows/\"\n",
    "            image_name = line[0].split('/')[-1].split('.')[0]\n",
    "            image_ext = line[0].split('/')[-1].split('.')[1]\n",
    "            new_name =  image_name + \"_\" + str(current_window) + '.' + image_ext\n",
    "            \n",
    "            #window.save(os.path.join(new_path, new_name))\n",
    "            \n",
    "            anot_line = os.path.join(new_path, new_name)\n",
    "\n",
    "            # get boxes for window\n",
    "            boxes_for_window = np.zeros((max_boxes,5))\n",
    "            if len(box)>0:\n",
    "                boxes_added = 0\n",
    "                for bb in box:\n",
    "                    if boxes_added < max_boxes and bounding_box_in_window(area, bb[:4]):\n",
    "                        \n",
    "                        # adjust bounding box coords to window\n",
    "                        adjusted_bb = [bb[0]-x, bb[1]-y, bb[2]-x, bb[3]-y, 0]\n",
    "                        \n",
    "                        # add box to list for this window\n",
    "                        boxes_for_window[boxes_added] = adjusted_bb\n",
    "                        boxes_added += 1\n",
    "                        \n",
    "                        anot_line += \" \" + \",\".join(list(map(str, adjusted_bb)))\n",
    "            \n",
    "            if boxes_added > 0:\n",
    "                anots_file_contents += anot_line + \"\\n\"\n",
    "            \n",
    "            boxes_per_window.append(boxes_for_window)\n",
    "            \n",
    "            current_window += 1\n",
    "            \n",
    "with open(\"window_train.txt\", \"w\") as text_file:\n",
    "    text_file.write(anots_file_contents)"
   ]
  },
  {
   "cell_type": "code",
   "execution_count": 11,
   "metadata": {},
   "outputs": [
    {
     "ename": "KeyboardInterrupt",
     "evalue": "",
     "output_type": "error",
     "traceback": [
      "\u001b[0;31m---------------------------------------------------------------------------\u001b[0m",
      "\u001b[0;31mKeyboardInterrupt\u001b[0m                         Traceback (most recent call last)",
      "\u001b[0;32m<ipython-input-11-113fae0e7e81>\u001b[0m in \u001b[0;36m<module>\u001b[0;34m()\u001b[0m\n\u001b[1;32m     19\u001b[0m \u001b[0;34m\u001b[0m\u001b[0m\n\u001b[1;32m     20\u001b[0m     \u001b[0mimage\u001b[0m\u001b[0;34m.\u001b[0m\u001b[0mshow\u001b[0m\u001b[0;34m(\u001b[0m\u001b[0;34m)\u001b[0m\u001b[0;34m\u001b[0m\u001b[0m\n\u001b[0;32m---> 21\u001b[0;31m     \u001b[0mtime\u001b[0m\u001b[0;34m.\u001b[0m\u001b[0msleep\u001b[0m\u001b[0;34m(\u001b[0m\u001b[0;36m100\u001b[0m\u001b[0;34m)\u001b[0m\u001b[0;34m\u001b[0m\u001b[0m\n\u001b[0m",
      "\u001b[0;31mKeyboardInterrupt\u001b[0m: "
     ]
    }
   ],
   "source": [
    "for line in lines:\n",
    "    line = line.split()\n",
    "    image = Image.open(line[0])\n",
    "    iw, ih = image.size\n",
    "    h, w = (416, 416)\n",
    "    box = np.array([np.array(list(map(int,box.split(',')))) for box in line[1:]])\n",
    "    \n",
    "    draw = ImageDraw.Draw(image)\n",
    "    \n",
    "    for bb in box:\n",
    "        x_min, y_min, x_max, y_max, _ = bb\n",
    "        draw.line([\n",
    "            (x_min, y_min),\n",
    "            (x_min, y_max),\n",
    "            (x_max, y_max),\n",
    "            (x_max, y_min),\n",
    "            (x_min, y_min)\n",
    "        ], width = 5, fill=\"red\")\n",
    "            \n",
    "    image.show()\n",
    "    time.sleep(100)"
   ]
  },
  {
   "cell_type": "code",
   "execution_count": null,
   "metadata": {},
   "outputs": [],
   "source": []
  },
  {
   "cell_type": "code",
   "execution_count": null,
   "metadata": {},
   "outputs": [],
   "source": []
  }
 ],
 "metadata": {
  "kernelspec": {
   "display_name": "Python 3",
   "language": "python",
   "name": "python3"
  },
  "language_info": {
   "codemirror_mode": {
    "name": "ipython",
    "version": 3
   },
   "file_extension": ".py",
   "mimetype": "text/x-python",
   "name": "python",
   "nbconvert_exporter": "python",
   "pygments_lexer": "ipython3",
   "version": "3.6.5"
  }
 },
 "nbformat": 4,
 "nbformat_minor": 2
}
